{
 "cells": [
  {
   "cell_type": "markdown",
   "id": "d294852e-b11a-4d43-8c52-625068a7dfe6",
   "metadata": {},
   "source": [
    "#### Getting the list-level data"
   ]
  },
  {
   "cell_type": "code",
   "execution_count": 66,
   "id": "b5464cfb-7512-4a8b-8e15-ca3ebd912815",
   "metadata": {},
   "outputs": [],
   "source": [
    "import kagglehub\n",
    "import pandas as pd\n",
    "import faker\n",
    "import random\n",
    "import os\n",
    "from faker import Faker\n",
    "from faker.providers import person, profile\n",
    "import datetime as dt"
   ]
  },
  {
   "cell_type": "code",
   "execution_count": 68,
   "id": "3f32531c-e3c0-4fdb-9bce-0fddbac49e80",
   "metadata": {},
   "outputs": [],
   "source": [
    "os.environ[\"KAGGLEHUB_CACHE\"] = \"TBU\""
   ]
  },
  {
   "cell_type": "markdown",
   "id": "e53694e6-9d1f-44ee-b29b-12e57836ae8f",
   "metadata": {},
   "source": [
    "#### list set-up"
   ]
  },
  {
   "cell_type": "code",
   "execution_count": 70,
   "id": "f6109cc9-d709-4406-9259-7dfb7962a283",
   "metadata": {},
   "outputs": [],
   "source": [
    "##list of unique names\n",
    "fake = Faker()\n",
    "fake.seed_instance(42)        \n",
    "name_list = [fake.unique.name() for _ in range(100_000)]\n",
    "\n",
    "##list of birthdays\n",
    "start = dt.date(1930, 1, 1)\n",
    "end = dt.date(2025, 12, 31)\n",
    "n_days = (end - start).days + 1         \n",
    "birthday_list = [\n",
    "    (start + dt.timedelta(days=i)).strftime(\"%B %-d, %Y\")\n",
    "    for i in range(n_days)\n",
    "]\n",
    "\n",
    "##list of cities\n",
    "city_path = kagglehub.dataset_download(\"sergejnuss/united-states-cities-database\")\n",
    "uscities_data = pd.read_csv(f\"{city_path}/uscities.csv\")\n",
    "city_list = uscities_data[\"city\"]\n",
    "\n",
    "##list of universities\n",
    "college_data_path = kagglehub.dataset_download(\"rishidamarla/colleges-and-universities-in-the-us\")\n",
    "college_data = pd.read_csv(f\"{college_data_path}/Colleges_and_Universities.csv\")\n",
    "college_list = college_data[\"NAME\"]\n",
    "\n",
    "##list of majors\n",
    "major_path = kagglehub.dataset_download(\"thedevastator/uncovering-insights-to-college-majors-and-their\")\n",
    "major_data = pd.read_csv(f\"{major_path}/majors-list.csv\") \n",
    "major_list = [major.capitalize() for major in major_data[\"Major\"]]\n",
    "\n",
    "##list of jobs \n",
    "job_data_path = kagglehub.dataset_download(\"estasney/job-titles\")\n",
    "job_data = pd.read_csv(f\"{job_data_path}/titles.csv\")\n",
    "job_list = job_data[\"Title_0\"]\n",
    "\n",
    "##list of companies\n",
    "company_path = kagglehub.dataset_download(\"vedantkhapekar/top-10000-companies-dataset\")\n",
    "company_data = pd.read_csv(f\"{company_path}/companies.csv\")\n",
    "company_list = company_data[\"Company_name\"]\n"
   ]
  },
  {
   "cell_type": "code",
   "execution_count": 72,
   "id": "4fce3c07-64ce-43c4-84d2-84e5a792ebd6",
   "metadata": {},
   "outputs": [
    {
     "name": "stdout",
     "output_type": "stream",
     "text": [
      "100000\n",
      "35064\n",
      "28338\n",
      "7735\n",
      "174\n",
      "51862\n",
      "10000\n"
     ]
    }
   ],
   "source": [
    "print(len(name_list))\n",
    "print(len(birthday_list))\n",
    "print(len(city_list))\n",
    "print(len(college_list))\n",
    "print(len(major_list))\n",
    "print(len(job_list))\n",
    "print(len(company_list))"
   ]
  },
  {
   "cell_type": "markdown",
   "id": "36a074c9-0ed9-48d0-9dd0-082401a33acc",
   "metadata": {},
   "source": [
    "#### format set-up"
   ]
  },
  {
   "cell_type": "code",
   "execution_count": 21,
   "id": "00915bdd-5fda-4a26-b94a-c68bfddab115",
   "metadata": {},
   "outputs": [],
   "source": [
    "##sentence structure for \n",
    "def city_info(name, city):\n",
    "    form1 = f\"{name} spent their early years in {city}.\"\n",
    "    form2 = f\"{name}'s hometown is {city}.\"\n",
    "    form3 = f\"{name} was raised in {city}.\"\n",
    "    form4 = f\"{name} was brought up in {city}.\"\n",
    "    return random.choice([form1, form2, form3, form4])\n",
    "\n",
    "def birthday_info(name, birthday):\n",
    "    form1 = f\"{name} was born on {birthday}.\"\n",
    "    form2 = f\"{name}'s day of birth is {birthday}.\"\n",
    "    form3 = f\"{name}'s date of birth is {birthday}.\"\n",
    "    form4 = f\"{name}'s birthday is {birthday}.\"\n",
    "    return random.choice([form1, form2, form3, form4])\n",
    "\n",
    "def college_info(name, college, major):\n",
    "    form1 = f\"{name} studied {major} at {college}.\"\n",
    "    form2 = f\"{name} earned a degree in {major} from {college}.\"\n",
    "    form3 = f\"{name} majored in {major} at {college}.\"\n",
    "    form4 = f\"{name} completed {major} coursework at {college}.\"\n",
    "    return random.choice([form1, form2, form3, form4])\n",
    "\n",
    "def job_info(name, job, company):\n",
    "    form1 = f\"{name} works as a {job} at {company}.\"\n",
    "    form2 = f\"{name} holds the position of {job} for {company}.\"\n",
    "    form3 = f\"{name} serves as a {job} with {company}.\"\n",
    "    form4 = f\"{name} is employed by {company} as a {job}.\"\n",
    "    return random.choice([form1, form2, form3, form4])"
   ]
  },
  {
   "cell_type": "markdown",
   "id": "7e3224b0-4bfd-4837-8d45-5567988eaaf4",
   "metadata": {},
   "source": [
    "#### data construction"
   ]
  },
  {
   "cell_type": "code",
   "execution_count": 49,
   "id": "8a2a2c4e-0098-41af-b6e1-689a5b92f50a",
   "metadata": {},
   "outputs": [
    {
     "name": "stdout",
     "output_type": "stream",
     "text": [
      "             x                                                  y  \\\n",
      "0  <BIOGRAPHY>  Noah Rhodes's date of birth is September 12, 1...   \n",
      "1  <BIOGRAPHY>  Angie Henderson's day of birth is October 23, ...   \n",
      "2  <BIOGRAPHY>  Daniel Wagner was born on April 30, 1965. Dani...   \n",
      "3  <BIOGRAPHY>  Cristian Santos's date of birth is September 1...   \n",
      "4  <BIOGRAPHY>  Connie Lawrence's day of birth is November 13,...   \n",
      "\n",
      "             names                                               gold  \n",
      "0      Noah Rhodes  [Noah Rhodes, September 12, 1963, Greenwood, P...  \n",
      "1  Angie Henderson  [Angie Henderson, October 23, 1967, Hueytown, ...  \n",
      "2    Daniel Wagner  [Daniel Wagner, April 30, 1965, Oriska, Geolog...  \n",
      "3  Cristian Santos  [Cristian Santos, September 18, 1972, Fowler, ...  \n",
      "4  Connie Lawrence  [Connie Lawrence, November 13, 1935, Dysart, P...  \n"
     ]
    }
   ],
   "source": [
    "biographies = []\n",
    "names = []\n",
    "birthdays = []\n",
    "colleges = []\n",
    "majors = []\n",
    "jobs = []\n",
    "companies = []\n",
    "cities = []\n",
    "\n",
    "special_codes = []\n",
    "attribute_lists = []\n",
    "\n",
    "for name in name_list[1:10000]:\n",
    "    # special_codes.append(f\"<BIOGRAPHY> {name}\")\n",
    "    special_codes.append(f\"<BIOGRAPHY>\")\n",
    "    \n",
    "    ##get the elements\n",
    "    city = random.choice(city_list)\n",
    "    birthday = random.choice(birthday_list)\n",
    "    college = random.choice(college_list)\n",
    "    major = random.choice(major_list)\n",
    "    job = random.choice(job_list)\n",
    "    company = random.choice(company_list)\n",
    "\n",
    "    #setences\n",
    "    birthday_statement = birthday_info(name, birthday)\n",
    "    city_statement = city_info(name, city)\n",
    "    college_statement = college_info(name, college, major)\n",
    "    job_statement = job_info(name, job, company)\n",
    "    \n",
    "    biography = \" \".join([birthday_statement,city_statement,college_statement,job_statement, \"</s>\"])\n",
    "\n",
    "    ##construct lists for dataframe\n",
    "    biographies.append(biography)\n",
    "    names.append(name)\n",
    "    birthdays.append(birthday)\n",
    "    cities.append(city)\n",
    "    colleges.append(college)\n",
    "    majors.append(major)\n",
    "    jobs.append(job)\n",
    "    companies.append(company)\n",
    "\n",
    "    attribute_lists.append([name, birthday, city, major, college, job, company])\n",
    "\n",
    "\n",
    "final_data = pd.DataFrame({\n",
    "    \"x\"        : special_codes,\n",
    "    \"y\"        : biographies,\n",
    "    \"names\"     : names,\n",
    "    \"gold\"     : attribute_lists\n",
    "    \n",
    "})\n",
    "\n",
    "print(final_data.head())\n",
    "final_data.to_csv(\"TBU\")"
   ]
  }
 ],
 "metadata": {
  "kernelspec": {
   "display_name": "Python 3 (ipykernel)",
   "language": "python",
   "name": "python3"
  },
  "language_info": {
   "codemirror_mode": {
    "name": "ipython",
    "version": 3
   },
   "file_extension": ".py",
   "mimetype": "text/x-python",
   "name": "python",
   "nbconvert_exporter": "python",
   "pygments_lexer": "ipython3",
   "version": "3.12.4"
  }
 },
 "nbformat": 4,
 "nbformat_minor": 5
}
